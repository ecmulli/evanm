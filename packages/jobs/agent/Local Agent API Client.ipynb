{
  "cells": [
    {
      "cell_type": "markdown",
      "metadata": {},
      "source": [
        "# 🚀 Production Task Creator\n",
        "\n",
        "Create Notion tasks via your deployed AI agent at agent.evanm.xyz\n",
        "\n",
        "The agent is now production-ready with authentication and smart parsing!\n"
      ]
    },
    {
      "cell_type": "code",
      "execution_count": 99,
      "metadata": {},
      "outputs": [],
      "source": [
        "import requests\n",
        "from pprint import pprint\n",
        "import dotenv\n",
        "dotenv.load_dotenv()\n",
        "import os\n",
        "\n",
        "base_url = \"https://agent.evanm.xyz\"  # Custom domain!\n",
        "base_url = \"http://localhost:8000\"\n",
        "base_url = \"https://agent.evanm.xyz\"  # Custom domain!\n",
        "BEARER_TOKEN = os.getenv(\"BEARER_TOKEN\")\n",
        "\n",
        "# Headers for authenticated requests\n",
        "headers = {\n",
        "    \"Authorization\": f\"Bearer {BEARER_TOKEN}\",\n",
        "    \"Content-Type\": \"application/json\"\n",
        "}"
      ]
    },
    {
      "cell_type": "code",
      "execution_count": null,
      "metadata": {},
      "outputs": [],
      "source": [
        "# Simple task creation - just modify the text and run!\n",
        "task_text = \"\"\"\n",
        "update webflow buttons to to use api_access vs api_waitlist_cta\n",
        "\n",
        "are there follow up steps to update in posthog? \n",
        "\n",
        "due next high priority\n",
        "infra team\n",
        "livepeer workspace\n",
        "1 hours\n",
        "planned label \n",
        "\"\"\"\n",
        "\n"
      ]
    },
    {
      "cell_type": "code",
      "execution_count": null,
      "metadata": {},
      "outputs": [],
      "source": []
    },
    {
      "cell_type": "code",
      "execution_count": 163,
      "metadata": {},
      "outputs": [
        {
          "name": "stdout",
          "output_type": "stream",
          "text": [
            "{'dry_run': True,\n",
            " 'message': 'Task parsed and validated successfully (dry run)',\n",
            " 'parsed_data': {'acceptance_criteria': '- [ ] Update excusable logic to '\n",
            "                                        \"handle user's ending input via API\\n\"\n",
            "                                        '- [ ] Ensure tracking of absence of '\n",
            "                                        '`gateway_recieve_first_segment` '\n",
            "                                        'event\\n'\n",
            "                                        \"- [ ] Ensure detection of 'ICE \"\n",
            "                                        \"Connection' error\",\n",
            "                 'description': \"Update the excusable logic to handle user's \"\n",
            "                                'ending input via API. Track the absence of a '\n",
            "                                '`gateway_recieve_first_segment` event and the '\n",
            "                                \"presence of an 'ICE Connection' error.\",\n",
            "                 'due_date': '2025-09-05',\n",
            "                 'estimated_hours': 1.0,\n",
            "                 'labels': ['Planned'],\n",
            "                 'priority': 'High',\n",
            "                 'status': 'Todo',\n",
            "                 'task_name': \"Update Excusable Logic for User's Ending Input \"\n",
            "                              'via API',\n",
            "                 'team': 'Infra',\n",
            "                 'workspace': 'Livepeer'},\n",
            " 'success': True,\n",
            " 'task_id': None,\n",
            " 'task_url': None}\n"
          ]
        }
      ],
      "source": [
        "response = requests.post(\n",
        "    f\"{base_url}/api/v1/task_creator\",\n",
        "    json={\n",
        "        \"text_inputs\": [task_text],\n",
        "        \"dry_run\": True  # Set to False to actually create the task\n",
        "    }, \n",
        "    headers={\n",
        "        \"Authorization\": f\"Bearer {os.getenv('BEARER_TOKEN')}\"\n",
        "    }\n",
        ")\n",
        "\n",
        "pprint(response.json())"
      ]
    },
    {
      "cell_type": "code",
      "execution_count": null,
      "metadata": {},
      "outputs": [],
      "source": []
    },
    {
      "cell_type": "code",
      "execution_count": 164,
      "metadata": {},
      "outputs": [
        {
          "name": "stdout",
          "output_type": "stream",
          "text": [
            "{'dry_run': False,\n",
            " 'message': \"Task 'Update excusable logic for user's ending input via API' \"\n",
            "            'created successfully in Livepeer',\n",
            " 'parsed_data': {'acceptance_criteria': '- [ ] Update logic to handle absence '\n",
            "                                        'of `gateway_recieve_first_segment` '\n",
            "                                        'event\\n'\n",
            "                                        \"- [ ] Implement detection of 'ICE \"\n",
            "                                        \"Connection' error\\n\"\n",
            "                                        '- [ ] Ensure the logic is tested and '\n",
            "                                        'verified in the API',\n",
            "                 'description': 'Update the excusable logic to handle cases '\n",
            "                                \"where a user's ending input is detected via \"\n",
            "                                'the API. This involves tracking the absence '\n",
            "                                'of a `gateway_recieve_first_segment` event '\n",
            "                                \"and the presence of an 'ICE Connection' \"\n",
            "                                'error.',\n",
            "                 'due_date': '2025-09-05',\n",
            "                 'estimated_hours': 1.0,\n",
            "                 'labels': ['Planned', 'Fire Drill'],\n",
            "                 'priority': 'High',\n",
            "                 'status': 'Todo',\n",
            "                 'task_name': \"Update excusable logic for user's ending input \"\n",
            "                              'via API',\n",
            "                 'team': 'Infra',\n",
            "                 'workspace': 'Livepeer'},\n",
            " 'success': True,\n",
            " 'task_id': '26559106-5b6d-810d-affb-d3756bafddea',\n",
            " 'task_url': 'https://www.notion.so/265591065b6d810daffbd3756bafddea'}\n"
          ]
        }
      ],
      "source": [
        "response = requests.post(\n",
        "    f\"{base_url}/api/v1/task_creator\",\n",
        "    json={\n",
        "        \"text_inputs\": [task_text],\n",
        "        \"dry_run\": False  # Set to False to actually create the task\n",
        "    },\n",
        "    headers=headers\n",
        ")\n",
        "\n",
        "pprint(response.json())"
      ]
    },
    {
      "cell_type": "markdown",
      "metadata": {},
      "source": []
    },
    {
      "cell_type": "markdown",
      "metadata": {},
      "source": [
        "## 📸 Method 2: Task Creation with Screenshots\n",
        "\n",
        "Create tasks from screenshots, UI mockups, or any images with text.\n"
      ]
    },
    {
      "cell_type": "code",
      "execution_count": null,
      "metadata": {},
      "outputs": [],
      "source": [
        "# Example: Create task from screenshot with additional context\n",
        "text_inputs = [\n",
        "    \"Implement the new dashboard design shown in the screenshot\",\n",
        "    \"This should be medium priority and take about 5 hours\",\n",
        "    \"Make sure to follow our design system and accessibility guidelines\"\n",
        "]\n",
        "\n",
        "image_urls = [\n",
        "    \"https://example.com/dashboard-mockup.png\"  # Replace with actual image URL\n",
        "]\n",
        "\n",
        "# Create the task\n",
        "result = create_task_via_api(\n",
        "    text_inputs=text_inputs,\n",
        "    image_urls=image_urls,\n",
        "    suggested_workspace=\"Personal\",\n",
        "    dry_run=True  # Change to False to actually create the task\n",
        ")\n"
      ]
    },
    {
      "cell_type": "markdown",
      "metadata": {},
      "source": [
        "## 🔄 Method 3: Quick Task Creation\n",
        "\n",
        "Simple one-liner task creation for quick capture.\n"
      ]
    },
    {
      "cell_type": "markdown",
      "metadata": {},
      "source": [
        "## 💡 Tips & Usage Notes\n",
        "\n",
        "### Text Input Best Practices:\n",
        "- Include priority level (low, medium, high, urgent, ASAP)\n",
        "- Mention estimated time/duration \n",
        "- Specify workspace if known (Personal, Livepeer, Vanquish)\n",
        "- Add context and requirements\n",
        "- Include due dates when relevant\n",
        "\n",
        "### Workspace Detection:\n",
        "The AI will automatically detect the appropriate workspace based on:\n",
        "- Keywords in your text (e.g., \"Livepeer bug\", \"Vanquish feature\")\n",
        "- Your suggested_workspace parameter\n",
        "- Default fallback to Personal workspace\n",
        "\n",
        "### Dry Run Mode:\n",
        "- Always test with `dry_run=True` first\n",
        "- Review the parsed data before creating actual tasks\n",
        "- Set `dry_run=False` only when you're satisfied with the result\n",
        "\n",
        "### Troubleshooting:\n",
        "- Make sure the agent server is running: `pnpm agent`\n",
        "- Check that your `.env` file is properly configured\n",
        "- Verify the server health using the utility functions above\n",
        "- Check the server logs if requests fail\n"
      ]
    }
  ],
  "metadata": {
    "kernelspec": {
      "display_name": "Python 3",
      "language": "python",
      "name": "python3"
    },
    "language_info": {
      "codemirror_mode": {
        "name": "ipython",
        "version": 3
      },
      "file_extension": ".py",
      "mimetype": "text/x-python",
      "name": "python",
      "nbconvert_exporter": "python",
      "pygments_lexer": "ipython3",
      "version": "3.11.10"
    }
  },
  "nbformat": 4,
  "nbformat_minor": 2
}
