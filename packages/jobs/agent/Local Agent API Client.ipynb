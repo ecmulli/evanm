{
  "cells": [
    {
      "cell_type": "markdown",
      "metadata": {},
      "source": [
        "# 🚀 Simple Task Creator\n",
        "\n",
        "Quick one-liner to create Notion tasks via your local agent server.\n",
        "\n",
        "Just run `pnpm agent` and then use the simple request below!\n"
      ]
    },
    {
      "cell_type": "code",
      "execution_count": 2,
      "metadata": {},
      "outputs": [],
      "source": [
        "import requests\n"
      ]
    },
    {
      "cell_type": "code",
      "execution_count": 7,
      "metadata": {},
      "outputs": [],
      "source": [
        "# Simple task creation - just modify the text and run!\n",
        "task_text = \"\"\"\n",
        "\n",
        "https://github.com/livepeer/pipelines/issues/1318\n",
        "\"\"\"\n",
        "\n"
      ]
    },
    {
      "cell_type": "code",
      "execution_count": 8,
      "metadata": {},
      "outputs": [
        {
          "name": "stdout",
          "output_type": "stream",
          "text": [
            "Response: {'success': True, 'message': 'Task parsed and validated successfully (dry run)', 'task_id': None, 'task_url': None, 'parsed_data': {'task_name': 'Review and address issue #1318 in Livepeer pipelines', 'workspace': 'Livepeer', 'priority': 'High', 'estimated_hours': 2.0, 'due_date': '2025-09-09', 'description': 'Review the details of issue #1318 in the Livepeer pipelines repository and address any concerns or tasks outlined in the issue. Ensure that all necessary steps are taken to resolve the issue effectively. Supporting Material: [Issue #1318](https://github.com/livepeer/pipelines/issues/1318)', 'acceptance_criteria': '- [ ] Review the details of issue #1318 on GitHub\\n- [ ] Identify and document the steps needed to address the issue\\n- [ ] Implement the necessary changes or fixes\\n- [ ] Verify that the issue is resolved and document the outcome\\n- [ ] Close the issue on GitHub if resolved'}, 'dry_run': True}\n"
          ]
        }
      ],
      "source": [
        "response = requests.post(\n",
        "    \"http://localhost:8000/api/v1/task_creator\",\n",
        "    json={\n",
        "        \"text_inputs\": [task_text],\n",
        "        \"dry_run\": True  # Set to False to actually create the task\n",
        "    }\n",
        ")\n",
        "\n",
        "print(\"Response:\", response.json())"
      ]
    },
    {
      "cell_type": "code",
      "execution_count": 6,
      "metadata": {},
      "outputs": [
        {
          "data": {
            "text/plain": [
              "{'success': True,\n",
              " 'message': 'Task parsed and validated successfully (dry run)',\n",
              " 'task_id': None,\n",
              " 'task_url': None,\n",
              " 'parsed_data': {'task_name': 'Fix urgent bug in Livepeer checkout flow',\n",
              "  'workspace': 'Livepeer',\n",
              "  'priority': 'ASAP',\n",
              "  'estimated_hours': 3.0,\n",
              "  'due_date': '2025-09-02',\n",
              "  'description': 'Address the urgent bug in the checkout flow affecting the payment processing step where users get stuck. Use the provided reference materials for guidance.',\n",
              "  'acceptance_criteria': '- [ ] Bug in the checkout flow is identified and resolved\\n- [ ] Payment processing step functions without users getting stuck\\n- [ ] Changes are tested and verified against the design mockup\\n\\nSupporting Materials:\\n- [Bug report](https://github.com/livepeer/example/issues/123)\\n- [Design mockup](https://figma.com/design-mockup-link)\\n- [API documentation](https://docs.livepeer.org/api/checkout)'},\n",
              " 'dry_run': True}"
            ]
          },
          "execution_count": 6,
          "metadata": {},
          "output_type": "execute_result"
        }
      ],
      "source": [
        "# Test with URLs - the agent will now preserve these URLs in the task\n",
        "task_with_urls = \"\"\"\n",
        "Fix the urgent bug in the checkout flow. High priority Livepeer work, 3 hours.\n",
        "\n",
        "Reference materials:\n",
        "- Bug report: https://github.com/livepeer/example/issues/123\n",
        "- Design mockup: https://figma.com/design-mockup-link\n",
        "- API docs: https://docs.livepeer.org/api/checkout\n",
        "\n",
        "This affects the payment processing step where users get stuck.\n",
        "\"\"\"\n",
        "\n",
        "requests.post(\n",
        "    \"http://localhost:8000/api/v1/task_creator\",\n",
        "    json={\n",
        "        \"text_inputs\": [task_with_urls],\n",
        "        \"suggested_workspace\": \"Livepeer\",\n",
        "        \"dry_run\": True  # Set to False to actually create the task\n",
        "    }\n",
        ").json()\n"
      ]
    },
    {
      "cell_type": "markdown",
      "metadata": {},
      "source": [
        "\n"
      ]
    },
    {
      "cell_type": "code",
      "execution_count": null,
      "metadata": {},
      "outputs": [],
      "source": [
        "# Example: Create task from user feedback and context\n",
        "text_inputs = [\n",
        "    \"\"\"\n",
        "    Fix the urgent payment processing bug that's affecting checkout flow.\n",
        "    This is high priority Livepeer work and should take about 3 hours.\n",
        "    The bug is causing customers to get stuck at the payment confirmation step.\n",
        "    Need to investigate the API integration and fix any timeout issues.\n",
        "    \"\"\"\n",
        "]\n",
        "\n",
        "# Create the task (set dry_run=True for testing)\n",
        "result = create_task_via_api(\n",
        "    text_inputs=text_inputs,\n",
        "    suggested_workspace=\"Livepeer\",\n",
        "    dry_run=True  # Change to False to actually create the task\n",
        ")\n"
      ]
    },
    {
      "cell_type": "code",
      "execution_count": null,
      "metadata": {},
      "outputs": [],
      "source": []
    },
    {
      "cell_type": "markdown",
      "metadata": {},
      "source": [
        "## 📸 Method 2: Task Creation with Screenshots\n",
        "\n",
        "Create tasks from screenshots, UI mockups, or any images with text.\n"
      ]
    },
    {
      "cell_type": "code",
      "execution_count": null,
      "metadata": {},
      "outputs": [],
      "source": [
        "# Example: Create task from screenshot with additional context\n",
        "text_inputs = [\n",
        "    \"Implement the new dashboard design shown in the screenshot\",\n",
        "    \"This should be medium priority and take about 5 hours\",\n",
        "    \"Make sure to follow our design system and accessibility guidelines\"\n",
        "]\n",
        "\n",
        "image_urls = [\n",
        "    \"https://example.com/dashboard-mockup.png\"  # Replace with actual image URL\n",
        "]\n",
        "\n",
        "# Create the task\n",
        "result = create_task_via_api(\n",
        "    text_inputs=text_inputs,\n",
        "    image_urls=image_urls,\n",
        "    suggested_workspace=\"Personal\",\n",
        "    dry_run=True  # Change to False to actually create the task\n",
        ")\n"
      ]
    },
    {
      "cell_type": "markdown",
      "metadata": {},
      "source": [
        "## 🔄 Method 3: Quick Task Creation\n",
        "\n",
        "Simple one-liner task creation for quick capture.\n"
      ]
    },
    {
      "cell_type": "code",
      "execution_count": null,
      "metadata": {},
      "outputs": [],
      "source": [
        "# Quick task creation\n",
        "quick_task = \"Update documentation for the new API endpoints. Should take 1 hour, medium priority.\"\n",
        "\n",
        "result = create_task_via_api(\n",
        "    text_inputs=[quick_task],\n",
        "    dry_run=True  # Change to False to actually create the task\n",
        ")\n"
      ]
    },
    {
      "cell_type": "markdown",
      "metadata": {},
      "source": [
        "## 🧪 Method 4: Bulk Task Creation\n",
        "\n",
        "Create multiple related tasks from a single input.\n"
      ]
    },
    {
      "cell_type": "code",
      "execution_count": null,
      "metadata": {},
      "outputs": [],
      "source": [
        "# Multiple related tasks\n",
        "bulk_tasks = [\n",
        "    \"Set up new user onboarding flow - 4 hours, high priority\",\n",
        "    \"Create welcome email templates - 2 hours, medium priority\", \n",
        "    \"Design user profile page - 6 hours, medium priority\",\n",
        "    \"Implement user settings functionality - 8 hours, low priority\"\n",
        "]\n",
        "\n",
        "# Create each task\n",
        "print(f\"🚀 Creating {len(bulk_tasks)} tasks...\\n\")\n",
        "\n",
        "for i, task_text in enumerate(bulk_tasks, 1):\n",
        "    print(f\"\\n📋 Creating task {i}/{len(bulk_tasks)}:\")\n",
        "    result = create_task_via_api(\n",
        "        text_inputs=[task_text],\n",
        "        suggested_workspace=\"Personal\",\n",
        "        dry_run=True  # Change to False to actually create the tasks\n",
        "    )\n",
        "    print(\"\\n\" + \"-\"*50)\n"
      ]
    },
    {
      "cell_type": "markdown",
      "metadata": {},
      "source": [
        "## 🛠️ Utility Functions\n",
        "\n",
        "Helper functions for testing and debugging.\n"
      ]
    },
    {
      "cell_type": "code",
      "execution_count": null,
      "metadata": {},
      "outputs": [],
      "source": [
        "# Test server connectivity\n",
        "def test_server():\n",
        "    \"\"\"Test if the agent server is responding properly.\"\"\"\n",
        "    print(\"🔍 Testing server connectivity...\")\n",
        "    \n",
        "    # Check health endpoint\n",
        "    if check_server_health():\n",
        "        # Test the root endpoint\n",
        "        try:\n",
        "            response = requests.get(AGENT_API_BASE_URL)\n",
        "            if response.status_code == 200:\n",
        "                data = response.json()\n",
        "                print(f\"📍 Root endpoint: {data.get('message', 'OK')}\")\n",
        "                print(f\"📚 Docs available at: {AGENT_API_BASE_URL}{data.get('docs', '/docs')}\")\n",
        "                return True\n",
        "        except Exception as e:\n",
        "            print(f\"⚠️ Root endpoint error: {e}\")\n",
        "    \n",
        "    return False\n",
        "\n",
        "# Run the test\n",
        "test_server()\n"
      ]
    },
    {
      "cell_type": "code",
      "execution_count": null,
      "metadata": {},
      "outputs": [],
      "source": [
        "# View API documentation in browser\n",
        "def open_api_docs():\n",
        "    \"\"\"Display link to open API documentation.\"\"\"\n",
        "    docs_url = f\"{AGENT_API_BASE_URL}/docs\"\n",
        "    print(f\"📚 API Documentation: {docs_url}\")\n",
        "    print(f\"🔍 Alternative docs: {AGENT_API_BASE_URL}/redoc\")\n",
        "    \n",
        "    # Create clickable link\n",
        "    display(HTML(f'<a href=\"{docs_url}\" target=\"_blank\">🚀 Open API Documentation</a>'))\n",
        "\n",
        "open_api_docs()\n"
      ]
    },
    {
      "cell_type": "markdown",
      "metadata": {},
      "source": [
        "## 💡 Tips & Usage Notes\n",
        "\n",
        "### Text Input Best Practices:\n",
        "- Include priority level (low, medium, high, urgent, ASAP)\n",
        "- Mention estimated time/duration \n",
        "- Specify workspace if known (Personal, Livepeer, Vanquish)\n",
        "- Add context and requirements\n",
        "- Include due dates when relevant\n",
        "\n",
        "### Workspace Detection:\n",
        "The AI will automatically detect the appropriate workspace based on:\n",
        "- Keywords in your text (e.g., \"Livepeer bug\", \"Vanquish feature\")\n",
        "- Your suggested_workspace parameter\n",
        "- Default fallback to Personal workspace\n",
        "\n",
        "### Dry Run Mode:\n",
        "- Always test with `dry_run=True` first\n",
        "- Review the parsed data before creating actual tasks\n",
        "- Set `dry_run=False` only when you're satisfied with the result\n",
        "\n",
        "### Troubleshooting:\n",
        "- Make sure the agent server is running: `pnpm agent`\n",
        "- Check that your `.env` file is properly configured\n",
        "- Verify the server health using the utility functions above\n",
        "- Check the server logs if requests fail\n"
      ]
    }
  ],
  "metadata": {
    "kernelspec": {
      "display_name": "Python 3",
      "language": "python",
      "name": "python3"
    },
    "language_info": {
      "codemirror_mode": {
        "name": "ipython",
        "version": 3
      },
      "file_extension": ".py",
      "mimetype": "text/x-python",
      "name": "python",
      "nbconvert_exporter": "python",
      "pygments_lexer": "ipython3",
      "version": "3.11.10"
    }
  },
  "nbformat": 4,
  "nbformat_minor": 2
}
