{
  "cells": [
    {
      "cell_type": "markdown",
      "metadata": {},
      "source": [
        "# 🚀 Production Task Creator\n",
        "\n",
        "Create Notion tasks via your deployed AI agent at agent.evanm.xyz\n",
        "\n",
        "The agent is now production-ready with authentication and smart parsing!\n"
      ]
    },
    {
      "cell_type": "code",
      "execution_count": 99,
      "metadata": {},
      "outputs": [],
      "source": [
        "import requests\n",
        "from pprint import pprint\n",
        "import dotenv\n",
        "dotenv.load_dotenv()\n",
        "import os\n",
        "\n",
        "base_url = \"https://agent.evanm.xyz\"  # Custom domain!\n",
        "base_url = \"http://localhost:8000\"\n",
        "base_url = \"https://agent.evanm.xyz\"  # Custom domain!\n",
        "BEARER_TOKEN = os.getenv(\"BEARER_TOKEN\")\n",
        "\n",
        "# Headers for authenticated requests\n",
        "headers = {\n",
        "    \"Authorization\": f\"Bearer {BEARER_TOKEN}\",\n",
        "    \"Content-Type\": \"application/json\"\n",
        "}"
      ]
    },
    {
      "cell_type": "code",
      "execution_count": 136,
      "metadata": {},
      "outputs": [],
      "source": [
        "# Simple task creation - just modify the text and run!\n",
        "task_text = \"\"\"\n",
        "set up time with sam and caroline to think through our data dashboards.\n",
        "\n",
        "this is related to standardizing what data we send to clients. \n",
        "\n",
        "we should be able to handle awareness vs conversion focused clients. \n",
        "i'm thinking we can have two different versions of dashboards for each type of client \n",
        "and the UI can switch based on the client type.\n",
        "\n",
        "do we have any clients that are both awareness and conversion focused? maybe that would be as simple as just showing both in the sidebar.\n",
        "\n",
        "thought experiment for the meeting:\n",
        "* what data do we send to clients?\n",
        "* do we have a standardized deck we use for each type of client?\n",
        "\n",
        "due tomorrow\n",
        "medium priority\n",
        "vanquish workspace\n",
        "30 minutes\n",
        "\"\"\"\n",
        "\n"
      ]
    },
    {
      "cell_type": "code",
      "execution_count": null,
      "metadata": {},
      "outputs": [],
      "source": []
    },
    {
      "cell_type": "code",
      "execution_count": 137,
      "metadata": {},
      "outputs": [
        {
          "name": "stdout",
          "output_type": "stream",
          "text": [
            "{'dry_run': True,\n",
            " 'message': 'Task parsed and validated successfully (dry run)',\n",
            " 'parsed_data': {'acceptance_criteria': '- [ ] Meeting scheduled with Sam and '\n",
            "                                        'Caroline\\n'\n",
            "                                        '- [ ] Discussed data standardization '\n",
            "                                        'for client dashboards\\n'\n",
            "                                        '- [ ] Considered UI options for '\n",
            "                                        'different client types\\n'\n",
            "                                        '- [ ] Evaluated if any clients need '\n",
            "                                        'both awareness and conversion '\n",
            "                                        'dashboards',\n",
            "                 'description': 'Set up a meeting with Sam and Caroline to '\n",
            "                                'discuss the standardization of data '\n",
            "                                'dashboards for clients. The focus will be on '\n",
            "                                'handling both awareness and '\n",
            "                                'conversion-focused clients, potentially '\n",
            "                                'creating two versions of dashboards with a UI '\n",
            "                                'that switches based on client type. Consider '\n",
            "                                'if any clients require both types and how to '\n",
            "                                'display this in the sidebar.',\n",
            "                 'due_date': '2025-09-05',\n",
            "                 'estimated_hours': 0.5,\n",
            "                 'labels': ['Planned'],\n",
            "                 'priority': 'Medium',\n",
            "                 'status': 'Todo',\n",
            "                 'task_name': 'Schedule meeting with Sam and Caroline for data '\n",
            "                              'dashboards',\n",
            "                 'team': 'Product',\n",
            "                 'workspace': 'Vanquish'},\n",
            " 'success': True,\n",
            " 'task_id': None,\n",
            " 'task_url': None}\n"
          ]
        }
      ],
      "source": [
        "response = requests.post(\n",
        "    f\"{base_url}/api/v1/task_creator\",\n",
        "    json={\n",
        "        \"text_inputs\": [task_text],\n",
        "        \"dry_run\": True  # Set to False to actually create the task\n",
        "    }, \n",
        "    headers={\n",
        "        \"Authorization\": f\"Bearer {os.getenv('BEARER_TOKEN')}\"\n",
        "    }\n",
        ")\n",
        "\n",
        "pprint(response.json())"
      ]
    },
    {
      "cell_type": "code",
      "execution_count": null,
      "metadata": {},
      "outputs": [],
      "source": []
    },
    {
      "cell_type": "code",
      "execution_count": 138,
      "metadata": {},
      "outputs": [
        {
          "name": "stdout",
          "output_type": "stream",
          "text": [
            "{'dry_run': False,\n",
            " 'message': \"Task 'Schedule meeting with Sam and Caroline for data dashboards' \"\n",
            "            'created successfully in Vanquish',\n",
            " 'parsed_data': {'acceptance_criteria': '- [ ] Meeting scheduled with Sam and '\n",
            "                                        'Caroline\\n'\n",
            "                                        '- [ ] Discussed data sent to clients\\n'\n",
            "                                        '- [ ] Evaluated the need for '\n",
            "                                        'standardized decks for each client '\n",
            "                                        'type\\n'\n",
            "                                        '- [ ] Considered UI options for '\n",
            "                                        'clients with both awareness and '\n",
            "                                        'conversion focus',\n",
            "                 'description': 'Set up a meeting with Sam and Caroline to '\n",
            "                                'discuss standardizing the data dashboards for '\n",
            "                                'clients. The focus will be on handling '\n",
            "                                'different client types, such as awareness vs '\n",
            "                                'conversion-focused clients, and potentially '\n",
            "                                'having two versions of dashboards. Consider '\n",
            "                                'if there are clients that require both types '\n",
            "                                'and how the UI can accommodate this.',\n",
            "                 'due_date': '2025-09-05',\n",
            "                 'estimated_hours': 0.5,\n",
            "                 'labels': ['Planned'],\n",
            "                 'priority': 'Medium',\n",
            "                 'status': 'Todo',\n",
            "                 'task_name': 'Schedule meeting with Sam and Caroline for data '\n",
            "                              'dashboards',\n",
            "                 'team': 'Product',\n",
            "                 'workspace': 'Vanquish'},\n",
            " 'success': True,\n",
            " 'task_id': '26459106-5b6d-816e-ad42-c697189fed50',\n",
            " 'task_url': 'https://www.notion.so/264591065b6d816ead42c697189fed50'}\n"
          ]
        }
      ],
      "source": [
        "response = requests.post(\n",
        "    f\"{base_url}/api/v1/task_creator\",\n",
        "    json={\n",
        "        \"text_inputs\": [task_text],\n",
        "        \"dry_run\": False  # Set to False to actually create the task\n",
        "    },\n",
        "    headers=headers\n",
        ")\n",
        "\n",
        "pprint(response.json())"
      ]
    },
    {
      "cell_type": "markdown",
      "metadata": {},
      "source": []
    },
    {
      "cell_type": "markdown",
      "metadata": {},
      "source": [
        "## 📸 Method 2: Task Creation with Screenshots\n",
        "\n",
        "Create tasks from screenshots, UI mockups, or any images with text.\n"
      ]
    },
    {
      "cell_type": "code",
      "execution_count": null,
      "metadata": {},
      "outputs": [],
      "source": [
        "# Example: Create task from screenshot with additional context\n",
        "text_inputs = [\n",
        "    \"Implement the new dashboard design shown in the screenshot\",\n",
        "    \"This should be medium priority and take about 5 hours\",\n",
        "    \"Make sure to follow our design system and accessibility guidelines\"\n",
        "]\n",
        "\n",
        "image_urls = [\n",
        "    \"https://example.com/dashboard-mockup.png\"  # Replace with actual image URL\n",
        "]\n",
        "\n",
        "# Create the task\n",
        "result = create_task_via_api(\n",
        "    text_inputs=text_inputs,\n",
        "    image_urls=image_urls,\n",
        "    suggested_workspace=\"Personal\",\n",
        "    dry_run=True  # Change to False to actually create the task\n",
        ")\n"
      ]
    },
    {
      "cell_type": "markdown",
      "metadata": {},
      "source": [
        "## 🔄 Method 3: Quick Task Creation\n",
        "\n",
        "Simple one-liner task creation for quick capture.\n"
      ]
    },
    {
      "cell_type": "markdown",
      "metadata": {},
      "source": [
        "## 💡 Tips & Usage Notes\n",
        "\n",
        "### Text Input Best Practices:\n",
        "- Include priority level (low, medium, high, urgent, ASAP)\n",
        "- Mention estimated time/duration \n",
        "- Specify workspace if known (Personal, Livepeer, Vanquish)\n",
        "- Add context and requirements\n",
        "- Include due dates when relevant\n",
        "\n",
        "### Workspace Detection:\n",
        "The AI will automatically detect the appropriate workspace based on:\n",
        "- Keywords in your text (e.g., \"Livepeer bug\", \"Vanquish feature\")\n",
        "- Your suggested_workspace parameter\n",
        "- Default fallback to Personal workspace\n",
        "\n",
        "### Dry Run Mode:\n",
        "- Always test with `dry_run=True` first\n",
        "- Review the parsed data before creating actual tasks\n",
        "- Set `dry_run=False` only when you're satisfied with the result\n",
        "\n",
        "### Troubleshooting:\n",
        "- Make sure the agent server is running: `pnpm agent`\n",
        "- Check that your `.env` file is properly configured\n",
        "- Verify the server health using the utility functions above\n",
        "- Check the server logs if requests fail\n"
      ]
    }
  ],
  "metadata": {
    "kernelspec": {
      "display_name": "Python 3",
      "language": "python",
      "name": "python3"
    },
    "language_info": {
      "codemirror_mode": {
        "name": "ipython",
        "version": 3
      },
      "file_extension": ".py",
      "mimetype": "text/x-python",
      "name": "python",
      "nbconvert_exporter": "python",
      "pygments_lexer": "ipython3",
      "version": "3.11.10"
    }
  },
  "nbformat": 4,
  "nbformat_minor": 2
}
