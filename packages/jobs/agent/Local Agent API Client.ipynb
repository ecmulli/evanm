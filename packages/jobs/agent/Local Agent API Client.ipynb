{
  "cells": [
    {
      "cell_type": "markdown",
      "metadata": {},
      "source": [
        "# 🚀 Simple Task Creator\n",
        "\n",
        "Quick one-liner to create Notion tasks via your local agent server.\n",
        "\n",
        "Just run `pnpm agent` and then use the simple request below!\n"
      ]
    },
    {
      "cell_type": "code",
      "execution_count": null,
      "metadata": {},
      "outputs": [],
      "source": [
        "import requests\n",
        "from pprint import pprint\n"
      ]
    },
    {
      "cell_type": "code",
      "execution_count": 39,
      "metadata": {},
      "outputs": [],
      "source": [
        "# Simple task creation - just modify the text and run!\n",
        "task_text = \"\"\"\n",
        "set up an ai agent to help with team's time tracking\n",
        "\n",
        "they should be able to type it into slack and it will automatically route to the time tracking database in the vanquish workspace\n",
        "\n",
        "will need to set up a slack app to do this\n",
        "\n",
        "vanquish workspace\n",
        "medium priority\n",
        "3 hours\n",
        "\"\"\"\n",
        "\n"
      ]
    },
    {
      "cell_type": "code",
      "execution_count": null,
      "metadata": {},
      "outputs": [],
      "source": []
    },
    {
      "cell_type": "code",
      "execution_count": 40,
      "metadata": {},
      "outputs": [
        {
          "name": "stdout",
          "output_type": "stream",
          "text": [
            "{'dry_run': True,\n",
            " 'message': 'Task parsed and validated successfully (dry run)',\n",
            " 'parsed_data': {'acceptance_criteria': '- [ ] AI agent is developed and '\n",
            "                                        'integrated into Slack\\n'\n",
            "                                        '- [ ] Team members can input time '\n",
            "                                        'tracking data via Slack\\n'\n",
            "                                        '- [ ] Data is automatically routed to '\n",
            "                                        'the time tracking database in '\n",
            "                                        'Vanquish workspace\\n'\n",
            "                                        '- [ ] Slack app is set up and '\n",
            "                                        'configured correctly',\n",
            "                 'description': 'Develop and integrate an AI agent that allows '\n",
            "                                'team members to input time tracking data '\n",
            "                                'directly into Slack. This data should then be '\n",
            "                                'automatically routed to the time tracking '\n",
            "                                'database in the Vanquish workspace. This will '\n",
            "                                'require setting up a Slack app to facilitate '\n",
            "                                'the integration.',\n",
            "                 'due_date': '2025-09-09',\n",
            "                 'estimated_hours': 3.0,\n",
            "                 'labels': ['Planned'],\n",
            "                 'priority': 'Medium',\n",
            "                 'status': 'Todo',\n",
            "                 'task_name': \"Set up AI agent for team's time tracking in \"\n",
            "                              'Slack',\n",
            "                 'workspace': 'Vanquish'},\n",
            " 'success': True,\n",
            " 'task_id': None,\n",
            " 'task_url': None}\n"
          ]
        }
      ],
      "source": [
        "response = requests.post(\n",
        "    \"http://localhost:8000/api/v1/task_creator\",\n",
        "    json={\n",
        "        \"text_inputs\": [task_text],\n",
        "        \"dry_run\": True  # Set to False to actually create the task\n",
        "    }\n",
        ")\n",
        "\n",
        "pprint(response.json())"
      ]
    },
    {
      "cell_type": "code",
      "execution_count": 41,
      "metadata": {},
      "outputs": [
        {
          "name": "stdout",
          "output_type": "stream",
          "text": [
            "{'dry_run': False,\n",
            " 'message': \"Task 'Set up AI agent for team's time tracking in Slack' created \"\n",
            "            'successfully in Vanquish',\n",
            " 'parsed_data': {'acceptance_criteria': '- [ ] AI agent is set up and '\n",
            "                                        'integrated with Slack\\n'\n",
            "                                        '- [ ] Team members can input time '\n",
            "                                        'tracking data via Slack\\n'\n",
            "                                        '- [ ] Data is automatically routed to '\n",
            "                                        'the time tracking database in '\n",
            "                                        'Vanquish workspace\\n'\n",
            "                                        '- [ ] Slack app is fully functional '\n",
            "                                        'and tested',\n",
            "                 'description': 'Set up an AI agent that allows team members '\n",
            "                                'to input time tracking data via Slack. The AI '\n",
            "                                'agent should automatically route this data to '\n",
            "                                'the time tracking database in the Vanquish '\n",
            "                                'workspace. This will involve setting up a '\n",
            "                                'Slack app to facilitate the integration.',\n",
            "                 'due_date': '2025-09-09',\n",
            "                 'estimated_hours': 3.0,\n",
            "                 'labels': ['Planned', 'Strategic'],\n",
            "                 'priority': 'Medium',\n",
            "                 'status': 'Todo',\n",
            "                 'task_name': \"Set up AI agent for team's time tracking in \"\n",
            "                              'Slack',\n",
            "                 'workspace': 'Vanquish'},\n",
            " 'success': True,\n",
            " 'task_id': '26259106-5b6d-8162-80a0-e40fd7eaa16a',\n",
            " 'task_url': 'https://www.notion.so/262591065b6d816280a0e40fd7eaa16a'}\n"
          ]
        }
      ],
      "source": [
        "response = requests.post(\n",
        "    \"http://localhost:8000/api/v1/task_creator\",\n",
        "    json={\n",
        "        \"text_inputs\": [task_text],\n",
        "        \"dry_run\": False  # Set to False to actually create the task\n",
        "    }\n",
        ")\n",
        "\n",
        "pprint(response.json())"
      ]
    },
    {
      "cell_type": "code",
      "execution_count": null,
      "metadata": {},
      "outputs": [],
      "source": []
    },
    {
      "cell_type": "markdown",
      "metadata": {},
      "source": [
        "## 📸 Method 2: Task Creation with Screenshots\n",
        "\n",
        "Create tasks from screenshots, UI mockups, or any images with text.\n"
      ]
    },
    {
      "cell_type": "code",
      "execution_count": null,
      "metadata": {},
      "outputs": [],
      "source": [
        "# Example: Create task from screenshot with additional context\n",
        "text_inputs = [\n",
        "    \"Implement the new dashboard design shown in the screenshot\",\n",
        "    \"This should be medium priority and take about 5 hours\",\n",
        "    \"Make sure to follow our design system and accessibility guidelines\"\n",
        "]\n",
        "\n",
        "image_urls = [\n",
        "    \"https://example.com/dashboard-mockup.png\"  # Replace with actual image URL\n",
        "]\n",
        "\n",
        "# Create the task\n",
        "result = create_task_via_api(\n",
        "    text_inputs=text_inputs,\n",
        "    image_urls=image_urls,\n",
        "    suggested_workspace=\"Personal\",\n",
        "    dry_run=True  # Change to False to actually create the task\n",
        ")\n"
      ]
    },
    {
      "cell_type": "markdown",
      "metadata": {},
      "source": [
        "## 🔄 Method 3: Quick Task Creation\n",
        "\n",
        "Simple one-liner task creation for quick capture.\n"
      ]
    },
    {
      "cell_type": "markdown",
      "metadata": {},
      "source": [
        "## 💡 Tips & Usage Notes\n",
        "\n",
        "### Text Input Best Practices:\n",
        "- Include priority level (low, medium, high, urgent, ASAP)\n",
        "- Mention estimated time/duration \n",
        "- Specify workspace if known (Personal, Livepeer, Vanquish)\n",
        "- Add context and requirements\n",
        "- Include due dates when relevant\n",
        "\n",
        "### Workspace Detection:\n",
        "The AI will automatically detect the appropriate workspace based on:\n",
        "- Keywords in your text (e.g., \"Livepeer bug\", \"Vanquish feature\")\n",
        "- Your suggested_workspace parameter\n",
        "- Default fallback to Personal workspace\n",
        "\n",
        "### Dry Run Mode:\n",
        "- Always test with `dry_run=True` first\n",
        "- Review the parsed data before creating actual tasks\n",
        "- Set `dry_run=False` only when you're satisfied with the result\n",
        "\n",
        "### Troubleshooting:\n",
        "- Make sure the agent server is running: `pnpm agent`\n",
        "- Check that your `.env` file is properly configured\n",
        "- Verify the server health using the utility functions above\n",
        "- Check the server logs if requests fail\n"
      ]
    }
  ],
  "metadata": {
    "kernelspec": {
      "display_name": "Python 3",
      "language": "python",
      "name": "python3"
    },
    "language_info": {
      "codemirror_mode": {
        "name": "ipython",
        "version": 3
      },
      "file_extension": ".py",
      "mimetype": "text/x-python",
      "name": "python",
      "nbconvert_exporter": "python",
      "pygments_lexer": "ipython3",
      "version": "3.11.10"
    }
  },
  "nbformat": 4,
  "nbformat_minor": 2
}
