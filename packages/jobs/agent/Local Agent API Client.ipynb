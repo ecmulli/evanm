{
  "cells": [
    {
      "cell_type": "markdown",
      "metadata": {},
      "source": [
        "# 🚀 Production Task Creator\n",
        "\n",
        "Create Notion tasks via your deployed AI agent at agent.evanm.xyz\n",
        "\n",
        "The agent is now production-ready with authentication and smart parsing!\n"
      ]
    },
    {
      "cell_type": "code",
      "execution_count": 84,
      "metadata": {},
      "outputs": [],
      "source": [
        "import requests\n",
        "from pprint import pprint\n",
        "import dotenv\n",
        "dotenv.load_dotenv()\n",
        "import os\n",
        "\n",
        "base_url = \"https://agent.evanm.xyz\"  # Custom domain!\n",
        "base_url = \"http://localhost:8000\"\n",
        "BEARER_TOKEN = os.getenv(\"BEARER_TOKEN\")\n",
        "\n",
        "# Headers for authenticated requests\n",
        "headers = {\n",
        "    \"Authorization\": f\"Bearer {BEARER_TOKEN}\",\n",
        "    \"Content-Type\": \"application/json\"\n",
        "}"
      ]
    },
    {
      "cell_type": "code",
      "execution_count": 95,
      "metadata": {},
      "outputs": [],
      "source": [
        "# Simple task creation - just modify the text and run!\n",
        "task_text = \"\"\"\n",
        "do onboarding thing\n",
        "\n",
        "ads team\n",
        "due today\n",
        "already completed\n",
        "high priority\n",
        "vanquish workspace\n",
        "1 hour\n",
        "\"\"\"\n",
        "\n"
      ]
    },
    {
      "cell_type": "code",
      "execution_count": null,
      "metadata": {},
      "outputs": [],
      "source": []
    },
    {
      "cell_type": "code",
      "execution_count": 96,
      "metadata": {},
      "outputs": [
        {
          "name": "stdout",
          "output_type": "stream",
          "text": [
            "{'dry_run': True,\n",
            " 'message': 'Task parsed and validated successfully (dry run)',\n",
            " 'parsed_data': {'acceptance_criteria': '- [x] Onboarding task completed for '\n",
            "                                        'the ads team',\n",
            "                 'description': 'The onboarding task for the ads team has been '\n",
            "                                'completed.',\n",
            "                 'due_date': '2025-09-03',\n",
            "                 'estimated_hours': 1.0,\n",
            "                 'labels': ['Fire Drill'],\n",
            "                 'priority': 'High',\n",
            "                 'status': 'Completed',\n",
            "                 'task_name': 'Completed Onboarding Task for Ads Team',\n",
            "                 'team': 'Ads',\n",
            "                 'workspace': 'Vanquish'},\n",
            " 'success': True,\n",
            " 'task_id': None,\n",
            " 'task_url': None}\n"
          ]
        }
      ],
      "source": [
        "response = requests.post(\n",
        "    f\"{base_url}/api/v1/task_creator\",\n",
        "    json={\n",
        "        \"text_inputs\": [task_text],\n",
        "        \"dry_run\": True  # Set to False to actually create the task\n",
        "    }, \n",
        "    headers=headers\n",
        ")\n",
        "\n",
        "pprint(response.json())"
      ]
    },
    {
      "cell_type": "code",
      "execution_count": null,
      "metadata": {},
      "outputs": [],
      "source": []
    },
    {
      "cell_type": "code",
      "execution_count": 97,
      "metadata": {},
      "outputs": [
        {
          "name": "stdout",
          "output_type": "stream",
          "text": [
            "{'dry_run': False,\n",
            " 'message': \"Task 'Completed Onboarding for Ads Team' created successfully in \"\n",
            "            'Vanquish',\n",
            " 'parsed_data': {'acceptance_criteria': '- [x] Onboarding process completed '\n",
            "                                        'for Ads team\\n'\n",
            "                                        '- [x] All necessary documentation and '\n",
            "                                        'steps followed',\n",
            "                 'description': 'Completed the onboarding process for the Ads '\n",
            "                                'team as part of the Vanquish workspace.',\n",
            "                 'due_date': '2025-09-03',\n",
            "                 'estimated_hours': 1.0,\n",
            "                 'labels': ['Planned'],\n",
            "                 'priority': 'High',\n",
            "                 'status': 'Completed',\n",
            "                 'task_name': 'Completed Onboarding for Ads Team',\n",
            "                 'team': 'Ads',\n",
            "                 'workspace': 'Vanquish'},\n",
            " 'success': True,\n",
            " 'task_id': '26359106-5b6d-8176-a471-ff68024cc214',\n",
            " 'task_url': 'https://www.notion.so/263591065b6d8176a471ff68024cc214'}\n"
          ]
        }
      ],
      "source": [
        "response = requests.post(\n",
        "    f\"{base_url}/api/v1/task_creator\",\n",
        "    json={\n",
        "        \"text_inputs\": [task_text],\n",
        "        \"dry_run\": False  # Set to False to actually create the task\n",
        "    },\n",
        "    headers=headers\n",
        ")\n",
        "\n",
        "pprint(response.json())"
      ]
    },
    {
      "cell_type": "code",
      "execution_count": null,
      "metadata": {},
      "outputs": [],
      "source": []
    },
    {
      "cell_type": "markdown",
      "metadata": {},
      "source": [
        "## 📸 Method 2: Task Creation with Screenshots\n",
        "\n",
        "Create tasks from screenshots, UI mockups, or any images with text.\n"
      ]
    },
    {
      "cell_type": "code",
      "execution_count": null,
      "metadata": {},
      "outputs": [],
      "source": [
        "# Example: Create task from screenshot with additional context\n",
        "text_inputs = [\n",
        "    \"Implement the new dashboard design shown in the screenshot\",\n",
        "    \"This should be medium priority and take about 5 hours\",\n",
        "    \"Make sure to follow our design system and accessibility guidelines\"\n",
        "]\n",
        "\n",
        "image_urls = [\n",
        "    \"https://example.com/dashboard-mockup.png\"  # Replace with actual image URL\n",
        "]\n",
        "\n",
        "# Create the task\n",
        "result = create_task_via_api(\n",
        "    text_inputs=text_inputs,\n",
        "    image_urls=image_urls,\n",
        "    suggested_workspace=\"Personal\",\n",
        "    dry_run=True  # Change to False to actually create the task\n",
        ")\n"
      ]
    },
    {
      "cell_type": "markdown",
      "metadata": {},
      "source": [
        "## 🔄 Method 3: Quick Task Creation\n",
        "\n",
        "Simple one-liner task creation for quick capture.\n"
      ]
    },
    {
      "cell_type": "markdown",
      "metadata": {},
      "source": [
        "## 💡 Tips & Usage Notes\n",
        "\n",
        "### Text Input Best Practices:\n",
        "- Include priority level (low, medium, high, urgent, ASAP)\n",
        "- Mention estimated time/duration \n",
        "- Specify workspace if known (Personal, Livepeer, Vanquish)\n",
        "- Add context and requirements\n",
        "- Include due dates when relevant\n",
        "\n",
        "### Workspace Detection:\n",
        "The AI will automatically detect the appropriate workspace based on:\n",
        "- Keywords in your text (e.g., \"Livepeer bug\", \"Vanquish feature\")\n",
        "- Your suggested_workspace parameter\n",
        "- Default fallback to Personal workspace\n",
        "\n",
        "### Dry Run Mode:\n",
        "- Always test with `dry_run=True` first\n",
        "- Review the parsed data before creating actual tasks\n",
        "- Set `dry_run=False` only when you're satisfied with the result\n",
        "\n",
        "### Troubleshooting:\n",
        "- Make sure the agent server is running: `pnpm agent`\n",
        "- Check that your `.env` file is properly configured\n",
        "- Verify the server health using the utility functions above\n",
        "- Check the server logs if requests fail\n"
      ]
    }
  ],
  "metadata": {
    "kernelspec": {
      "display_name": "Python 3",
      "language": "python",
      "name": "python3"
    },
    "language_info": {
      "codemirror_mode": {
        "name": "ipython",
        "version": 3
      },
      "file_extension": ".py",
      "mimetype": "text/x-python",
      "name": "python",
      "nbconvert_exporter": "python",
      "pygments_lexer": "ipython3",
      "version": "3.11.10"
    }
  },
  "nbformat": 4,
  "nbformat_minor": 2
}
