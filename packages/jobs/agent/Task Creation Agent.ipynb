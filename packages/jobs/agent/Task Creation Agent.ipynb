{
  "cells": [
    {
      "cell_type": "markdown",
      "metadata": {},
      "source": [
        "# 🤖 AI Task Creation Agent\n",
        "\n",
        "This notebook provides an interactive interface for creating Notion tasks using AI.\n",
        "\n",
        "## Features\n",
        "- **Multi-input synthesis**: Combine text, quotes, screenshots into coherent tasks\n",
        "- **Smart field detection**: AI determines priority, duration, workspace\n",
        "- **Rich content generation**: Creates descriptions and acceptance criteria\n",
        "- **Screenshot OCR**: Extracts text from images using GPT-4 Vision\n",
        "\n",
        "## Setup\n",
        "Make sure you have the required environment variables in `.env.dev`:\n",
        "- `OPENAI_API_KEY`\n",
        "- `PERSONAL_NOTION_API_KEY` \n",
        "- `PERSONAL_NOTION_DB_ID`\n"
      ]
    },
    {
      "cell_type": "code",
      "execution_count": 1,
      "metadata": {},
      "outputs": [],
      "source": [
        "%load_ext autoreload\n",
        "%autoreload 2\n"
      ]
    },
    {
      "cell_type": "code",
      "execution_count": 2,
      "metadata": {},
      "outputs": [],
      "source": [
        "# Import the task creation agent\n",
        "import sys\n",
        "import os\n",
        "sys.path.append('..')\n",
        "\n",
        "from agent.task_creator import TaskCreationAgent\n",
        "from IPython.display import display, Markdown\n",
        "import json\n"
      ]
    },
    {
      "cell_type": "code",
      "execution_count": 3,
      "metadata": {},
      "outputs": [
        {
          "name": "stdout",
          "output_type": "stream",
          "text": [
            "🤖 AI Task Creation Agent initialized!\n",
            "📋 Ready to create Notion tasks from your inputs\n"
          ]
        }
      ],
      "source": [
        "# Initialize the agent\n",
        "# Set dry_run=True for testing, False to actually create tasks\n",
        "agent = TaskCreationAgent(dry_run=False)\n",
        "\n",
        "print(\"🤖 AI Task Creation Agent initialized!\")\n",
        "print(\"📋 Ready to create Notion tasks from your inputs\")\n"
      ]
    },
    {
      "cell_type": "code",
      "execution_count": 8,
      "metadata": {},
      "outputs": [
        {
          "data": {
            "text/plain": [
              "'1.102.0'"
            ]
          },
          "execution_count": 8,
          "metadata": {},
          "output_type": "execute_result"
        }
      ],
      "source": [
        "\n",
        "import openai\n",
        "openai.__version__"
      ]
    },
    {
      "cell_type": "markdown",
      "metadata": {},
      "source": [
        "## 📝 Method 1: Text-Only Task Creation\n",
        "\n",
        "Create tasks from text descriptions, user feedback, or mixed information.\n"
      ]
    },
    {
      "cell_type": "code",
      "execution_count": null,
      "metadata": {},
      "outputs": [],
      "source": []
    },
    {
      "cell_type": "code",
      "execution_count": 9,
      "metadata": {},
      "outputs": [
        {
          "name": "stderr",
          "output_type": "stream",
          "text": [
            "2025-09-01 10:25:29,992 - INFO - 🚀 Starting AI task creation\n",
            "2025-09-01 10:25:34,483 - INFO - HTTP Request: POST https://api.openai.com/v1/chat/completions \"HTTP/1.1 200 OK\"\n",
            "2025-09-01 10:25:34,489 - INFO - 🤖 AI successfully synthesized task information\n",
            "2025-09-01 10:25:34,489 - INFO - 📋 Task: Set Up Personal AI Agent for Notion Task Creation\n",
            "2025-09-01 10:25:34,489 - INFO - 🏢 Workspace: Personal\n",
            "2025-09-01 10:25:34,489 - INFO - ⚡ Priority: High\n",
            "2025-09-01 10:25:34,490 - INFO - ⏱️  Duration: 2 hours\n",
            "2025-09-01 10:25:34,490 - INFO - 📝 Description: Set up a personal AI agent that can process text inputs with context and create tasks in Notion via an API endpoint. The agent should build on the existing logic of the task creation agent.create_notion_task.\n",
            "2025-09-01 10:25:34,490 - INFO - ✅ Acceptance Criteria: - [ ] AI agent is set up and operational\n",
            "- [ ] API endpoint is configured to accept text inputs\n",
            "- [ ] Tasks are successfully created in Notion from text inputs\n",
            "- [ ] Logic builds on task creation agent.create_notion_task\n",
            "2025-09-01 10:25:35,954 - INFO - HTTP Request: POST https://api.notion.com/v1/pages \"HTTP/1.1 200 OK\"\n",
            "2025-09-01 10:25:35,956 - INFO - ✅ Created task 'Set Up Personal AI Agent for Notion Task Creation' in Personal\n",
            "2025-09-01 10:25:35,957 - INFO - 📝 Notion URL: https://www.notion.so/Set-Up-Personal-AI-Agent-for-Notion-Task-Creation-261591065b6d81b5975de3b120f6ecd4\n"
          ]
        },
        {
          "name": "stdout",
          "output_type": "stream",
          "text": [
            "✅ Task created with ID: 26159106-5b6d-81b5-975d-e3b120f6ecd4\n"
          ]
        }
      ],
      "source": [
        "# Example: Create task from user feedback and context\n",
        "text_inputs = [\n",
        "    \"\"\"\n",
        "\tset up personal ai agent. \n",
        "\tshould only take 2 hours with ai's help. \n",
        "\thigh priority. \n",
        "\ti want to be able to post a bunch of text with context for the task that to an api endpoint and have it create the notion ask for me. \n",
        "\tit should build on the logic of the task creation agent.create_notion_task\n",
        "\t\"\"\"\n",
        "]\n",
        "\n",
        "# Create the task\n",
        "page_id = agent.create_task_from_inputs(\n",
        "    text_inputs=text_inputs,\n",
        "    suggested_workspace=\"Livepeer\"\n",
        ")\n",
        "\n",
        "if page_id:\n",
        "    print(f\"✅ Task created with ID: {page_id}\")\n",
        "else:\n",
        "    print(\"🧪 Dry run completed\")\n"
      ]
    },
    {
      "cell_type": "code",
      "execution_count": 12,
      "metadata": {},
      "outputs": [],
      "source": [
        "page_id"
      ]
    },
    {
      "cell_type": "markdown",
      "metadata": {},
      "source": []
    }
  ],
  "metadata": {
    "kernelspec": {
      "display_name": "Python 3",
      "language": "python",
      "name": "python3"
    },
    "language_info": {
      "codemirror_mode": {
        "name": "ipython",
        "version": 3
      },
      "file_extension": ".py",
      "mimetype": "text/x-python",
      "name": "python",
      "nbconvert_exporter": "python",
      "pygments_lexer": "ipython3",
      "version": "3.11.10"
    }
  },
  "nbformat": 4,
  "nbformat_minor": 2
}
