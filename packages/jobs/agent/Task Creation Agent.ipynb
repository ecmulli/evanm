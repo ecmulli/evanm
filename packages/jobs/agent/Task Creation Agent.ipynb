{
  "cells": [
    {
      "cell_type": "markdown",
      "metadata": {},
      "source": [
        "# 🤖 AI Task Creation Agent\n",
        "\n",
        "This notebook provides an interactive interface for creating Notion tasks using AI.\n",
        "\n",
        "## Features\n",
        "- **Multi-input synthesis**: Combine text, quotes, screenshots into coherent tasks\n",
        "- **Smart field detection**: AI determines priority, duration, workspace\n",
        "- **Rich content generation**: Creates descriptions and acceptance criteria\n",
        "- **Screenshot OCR**: Extracts text from images using GPT-4 Vision\n",
        "\n",
        "## Setup\n",
        "Make sure you have the required environment variables in `.env.dev`:\n",
        "- `OPENAI_API_KEY`\n",
        "- `PERSONAL_NOTION_API_KEY` \n",
        "- `PERSONAL_NOTION_DB_ID`\n"
      ]
    },
    {
      "cell_type": "code",
      "execution_count": 5,
      "metadata": {},
      "outputs": [],
      "source": [
        "%load_ext autoreload\n",
        "%autoreload 2\n"
      ]
    },
    {
      "cell_type": "code",
      "execution_count": 8,
      "metadata": {},
      "outputs": [],
      "source": [
        "# Import the task creation agent\n",
        "import sys\n",
        "import os\n",
        "sys.path.append('..')\n",
        "\n",
        "from agent.task_creator import TaskCreationAgent\n",
        "from IPython.display import display, Markdown\n",
        "import json\n"
      ]
    },
    {
      "cell_type": "code",
      "execution_count": 10,
      "metadata": {},
      "outputs": [
        {
          "name": "stderr",
          "output_type": "stream",
          "text": [
            "2025-09-01 09:40:09,368 - INFO - 🧪 Running in DRY RUN mode - no tasks will be created\n"
          ]
        },
        {
          "name": "stdout",
          "output_type": "stream",
          "text": [
            "🤖 AI Task Creation Agent initialized!\n",
            "📋 Ready to create Notion tasks from your inputs\n"
          ]
        }
      ],
      "source": [
        "# Initialize the agent\n",
        "# Set dry_run=True for testing, False to actually create tasks\n",
        "agent = TaskCreationAgent(dry_run=True)\n",
        "\n",
        "print(\"🤖 AI Task Creation Agent initialized!\")\n",
        "print(\"📋 Ready to create Notion tasks from your inputs\")\n"
      ]
    },
    {
      "cell_type": "markdown",
      "metadata": {},
      "source": [
        "## 📝 Method 1: Text-Only Task Creation\n",
        "\n",
        "Create tasks from text descriptions, user feedback, or mixed information.\n"
      ]
    },
    {
      "cell_type": "code",
      "execution_count": 11,
      "metadata": {},
      "outputs": [
        {
          "name": "stderr",
          "output_type": "stream",
          "text": [
            "2025-09-01 09:40:32,292 - INFO - 🚀 Starting AI task creation\n",
            "2025-09-01 09:40:35,500 - INFO - HTTP Request: POST https://api.openai.com/v1/chat/completions \"HTTP/1.1 200 OK\"\n",
            "2025-09-01 09:40:35,506 - INFO - 🤖 AI successfully synthesized task information\n",
            "2025-09-01 09:40:35,507 - INFO - 🧪 DRY RUN: Would create task 'Optimize Livepeer Analytics Dashboard Loading Speed' in Livepeer\n",
            "2025-09-01 09:40:35,507 - INFO -    Priority: ASAP, Duration: 16h\n",
            "2025-09-01 09:40:35,507 - INFO -    Description: Address performance issues on the Livepeer analytics dashboard by optimizing the data fetching logic...\n"
          ]
        },
        {
          "name": "stdout",
          "output_type": "stream",
          "text": [
            "🧪 Dry run completed\n"
          ]
        }
      ],
      "source": [
        "# Example: Create task from user feedback and context\n",
        "text_inputs = [\n",
        "    \"\"\"\n",
        "User feedback from John: \"The dashboard is too slow when loading the analytics page. \n",
        "It takes like 30 seconds just to see the basic metrics. Can we optimize this?\"\n",
        "    \"\"\",\n",
        "    \"\"\"\n",
        "Context: This is for the Livepeer analytics dashboard. We've had multiple complaints \n",
        "about performance, especially from users with large datasets. The current implementation \n",
        "loads all data at once instead of paginating.\n",
        "    \"\"\",\n",
        "    \"\"\"\n",
        "Technical notes: The issue is likely in the data fetching logic. We should implement \n",
        "lazy loading and add caching. This is blocking some users from using the feature.\n",
        "    \"\"\"\n",
        "]\n",
        "\n",
        "# Create the task\n",
        "page_id = agent.create_task_from_inputs(\n",
        "    text_inputs=text_inputs,\n",
        "    suggested_workspace=\"Livepeer\"\n",
        ")\n",
        "\n",
        "if page_id:\n",
        "    print(f\"✅ Task created with ID: {page_id}\")\n",
        "else:\n",
        "    print(\"🧪 Dry run completed\")\n"
      ]
    },
    {
      "cell_type": "code",
      "execution_count": 12,
      "metadata": {},
      "outputs": [],
      "source": [
        "page_id"
      ]
    },
    {
      "cell_type": "markdown",
      "metadata": {},
      "source": []
    }
  ],
  "metadata": {
    "kernelspec": {
      "display_name": "Python 3",
      "language": "python",
      "name": "python3"
    },
    "language_info": {
      "codemirror_mode": {
        "name": "ipython",
        "version": 3
      },
      "file_extension": ".py",
      "mimetype": "text/x-python",
      "name": "python",
      "nbconvert_exporter": "python",
      "pygments_lexer": "ipython3",
      "version": "3.11.10"
    }
  },
  "nbformat": 4,
  "nbformat_minor": 2
}
