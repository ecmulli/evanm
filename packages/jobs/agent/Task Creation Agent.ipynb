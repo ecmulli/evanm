{
  "cells": [
    {
      "cell_type": "markdown",
      "metadata": {},
      "source": [
        "# 🤖 AI Task Creation Agent\n",
        "\n",
        "This notebook provides an interactive interface for creating Notion tasks using AI.\n",
        "\n",
        "## Features\n",
        "- **Multi-input synthesis**: Combine text, quotes, screenshots into coherent tasks\n",
        "- **Smart field detection**: AI determines priority, duration, workspace\n",
        "- **Rich content generation**: Creates descriptions and acceptance criteria\n",
        "- **Screenshot OCR**: Extracts text from images using GPT-4 Vision\n",
        "\n",
        "## Setup\n",
        "Make sure you have the required environment variables in `.env.dev`:\n",
        "- `OPENAI_API_KEY`\n",
        "- `PERSONAL_NOTION_API_KEY` \n",
        "- `PERSONAL_NOTION_DB_ID`\n"
      ]
    },
    {
      "cell_type": "code",
      "execution_count": 1,
      "metadata": {},
      "outputs": [],
      "source": [
        "%load_ext autoreload\n",
        "%autoreload 2\n"
      ]
    },
    {
      "cell_type": "code",
      "execution_count": 2,
      "metadata": {},
      "outputs": [],
      "source": [
        "# Import the task creation agent\n",
        "import sys\n",
        "import os\n",
        "sys.path.append('..')\n",
        "\n",
        "from agent.task_creator import TaskCreationAgent\n",
        "from IPython.display import display, Markdown\n",
        "import json\n"
      ]
    },
    {
      "cell_type": "code",
      "execution_count": 8,
      "metadata": {},
      "outputs": [
        {
          "name": "stdout",
          "output_type": "stream",
          "text": [
            "🤖 AI Task Creation Agent initialized!\n",
            "📋 Ready to create Notion tasks from your inputs\n"
          ]
        }
      ],
      "source": [
        "# Initialize the agent\n",
        "# Set dry_run=True for testing, False to actually create tasks\n",
        "agent = TaskCreationAgent(dry_run=False)\n",
        "\n",
        "print(\"🤖 AI Task Creation Agent initialized!\")\n",
        "print(\"📋 Ready to create Notion tasks from your inputs\")\n"
      ]
    },
    {
      "cell_type": "markdown",
      "metadata": {},
      "source": [
        "## 📝 Method 1: Text-Only Task Creation\n",
        "\n",
        "Create tasks from text descriptions, user feedback, or mixed information.\n"
      ]
    },
    {
      "cell_type": "code",
      "execution_count": null,
      "metadata": {},
      "outputs": [],
      "source": []
    },
    {
      "cell_type": "code",
      "execution_count": 9,
      "metadata": {},
      "outputs": [
        {
          "name": "stderr",
          "output_type": "stream",
          "text": [
            "2025-09-01 09:50:39,191 - INFO - 🚀 Starting AI task creation\n",
            "2025-09-01 09:50:41,980 - INFO - HTTP Request: POST https://api.openai.com/v1/chat/completions \"HTTP/1.1 200 OK\"\n",
            "2025-09-01 09:50:41,981 - INFO - 🤖 AI successfully synthesized task information\n",
            "2025-09-01 09:50:41,982 - INFO - 📋 Task: Set Up Personal AI Agent for Task Creation\n",
            "2025-09-01 09:50:41,982 - INFO - 🏢 Workspace: Personal\n",
            "2025-09-01 09:50:41,982 - INFO - ⚡ Priority: High\n",
            "2025-09-01 09:50:41,982 - INFO - ⏱️  Duration: 2 hours\n",
            "2025-09-01 09:50:41,983 - INFO - 📝 Description: Set up a personal AI agent that can receive text input with context for a task and create a corresponding task in Notion via an API endpoint. The setup should build on the existing logic of the task creation agent.create_notion_task.\n",
            "2025-09-01 09:50:41,983 - INFO - ✅ Acceptance Criteria: - [ ] AI agent is set up and operational\n",
            "- [ ] API endpoint is created and functional\n",
            "- [ ] AI agent successfully creates tasks in Notion\n",
            "- [ ] Task creation logic is based on agent.create_notion_task\n",
            "2025-09-01 09:50:42,664 - INFO - HTTP Request: POST https://api.notion.com/v1/pages \"HTTP/1.1 400 Bad Request\"\n",
            "2025-09-01 09:50:42,665 - ERROR - Error creating Notion task: Invalid status option. Status option \"Not started\" does not exist\".\n"
          ]
        },
        {
          "ename": "APIResponseError",
          "evalue": "Invalid status option. Status option \"Not started\" does not exist\".",
          "output_type": "error",
          "traceback": [
            "\u001b[31m---------------------------------------------------------------------------\u001b[39m",
            "\u001b[31mHTTPStatusError\u001b[39m                           Traceback (most recent call last)",
            "\u001b[36mFile \u001b[39m\u001b[32m~/.pyenv/versions/3.11.10/lib/python3.11/site-packages/notion_client/client.py:149\u001b[39m, in \u001b[36mBaseClient._parse_response\u001b[39m\u001b[34m(self, response)\u001b[39m\n\u001b[32m    148\u001b[39m \u001b[38;5;28;01mtry\u001b[39;00m:\n\u001b[32m--> \u001b[39m\u001b[32m149\u001b[39m     \u001b[43mresponse\u001b[49m\u001b[43m.\u001b[49m\u001b[43mraise_for_status\u001b[49m\u001b[43m(\u001b[49m\u001b[43m)\u001b[49m\n\u001b[32m    150\u001b[39m \u001b[38;5;28;01mexcept\u001b[39;00m httpx.HTTPStatusError \u001b[38;5;28;01mas\u001b[39;00m error:\n",
            "\u001b[36mFile \u001b[39m\u001b[32m~/.pyenv/versions/3.11.10/lib/python3.11/site-packages/httpx/_models.py:829\u001b[39m, in \u001b[36mResponse.raise_for_status\u001b[39m\u001b[34m(self)\u001b[39m\n\u001b[32m    828\u001b[39m message = message.format(\u001b[38;5;28mself\u001b[39m, error_type=error_type)\n\u001b[32m--> \u001b[39m\u001b[32m829\u001b[39m \u001b[38;5;28;01mraise\u001b[39;00m HTTPStatusError(message, request=request, response=\u001b[38;5;28mself\u001b[39m)\n",
            "\u001b[31mHTTPStatusError\u001b[39m: Client error '400 Bad Request' for url 'https://api.notion.com/v1/pages'\nFor more information check: https://developer.mozilla.org/en-US/docs/Web/HTTP/Status/400",
            "\nDuring handling of the above exception, another exception occurred:\n",
            "\u001b[31mAPIResponseError\u001b[39m                          Traceback (most recent call last)",
            "\u001b[36mCell\u001b[39m\u001b[36m \u001b[39m\u001b[32mIn[9]\u001b[39m\u001b[32m, line 13\u001b[39m\n\u001b[32m      2\u001b[39m text_inputs = [\n\u001b[32m      3\u001b[39m \u001b[38;5;250m    \u001b[39m\u001b[33;03m\"\"\"\u001b[39;00m\n\u001b[32m      4\u001b[39m \u001b[33;03m\tset up personal ai agent. \u001b[39;00m\n\u001b[32m   (...)\u001b[39m\u001b[32m      9\u001b[39m \u001b[33;03m\t\"\"\"\u001b[39;00m\n\u001b[32m     10\u001b[39m ]\n\u001b[32m     12\u001b[39m \u001b[38;5;66;03m# Create the task\u001b[39;00m\n\u001b[32m---> \u001b[39m\u001b[32m13\u001b[39m page_id = \u001b[43magent\u001b[49m\u001b[43m.\u001b[49m\u001b[43mcreate_task_from_inputs\u001b[49m\u001b[43m(\u001b[49m\n\u001b[32m     14\u001b[39m \u001b[43m    \u001b[49m\u001b[43mtext_inputs\u001b[49m\u001b[43m=\u001b[49m\u001b[43mtext_inputs\u001b[49m\u001b[43m,\u001b[49m\n\u001b[32m     15\u001b[39m \u001b[43m    \u001b[49m\u001b[43msuggested_workspace\u001b[49m\u001b[43m=\u001b[49m\u001b[33;43m\"\u001b[39;49m\u001b[33;43mLivepeer\u001b[39;49m\u001b[33;43m\"\u001b[39;49m\n\u001b[32m     16\u001b[39m \u001b[43m)\u001b[49m\n\u001b[32m     18\u001b[39m \u001b[38;5;28;01mif\u001b[39;00m page_id:\n\u001b[32m     19\u001b[39m     \u001b[38;5;28mprint\u001b[39m(\u001b[33mf\u001b[39m\u001b[33m\"\u001b[39m\u001b[33m✅ Task created with ID: \u001b[39m\u001b[38;5;132;01m{\u001b[39;00mpage_id\u001b[38;5;132;01m}\u001b[39;00m\u001b[33m\"\u001b[39m)\n",
            "\u001b[36mFile \u001b[39m\u001b[32m~/Projects/evanm/packages/jobs/agent/../agent/task_creator.py:398\u001b[39m, in \u001b[36mcreate_task_from_inputs\u001b[39m\u001b[34m(self, text_inputs, image_paths, suggested_workspace)\u001b[39m\n\u001b[32m    395\u001b[39m     \u001b[38;5;28;01mreturn\u001b[39;00m page_id\n\u001b[32m    397\u001b[39m \u001b[38;5;28;01mexcept\u001b[39;00m \u001b[38;5;167;01mException\u001b[39;00m \u001b[38;5;28;01mas\u001b[39;00m e:\n\u001b[32m--> \u001b[39m\u001b[32m398\u001b[39m     \u001b[38;5;28mself\u001b[39m.logger.error(\u001b[33mf\u001b[39m\u001b[33m\"\u001b[39m\u001b[33mError creating Notion task: \u001b[39m\u001b[38;5;132;01m{\u001b[39;00me\u001b[38;5;132;01m}\u001b[39;00m\u001b[33m\"\u001b[39m)\n\u001b[32m    399\u001b[39m     \u001b[38;5;28;01mraise\u001b[39;00m\n",
            "\u001b[36mFile \u001b[39m\u001b[32m<string>:23\u001b[39m, in \u001b[36mcreate_notion_task\u001b[39m\u001b[34m(self, task_info)\u001b[39m\n",
            "\u001b[36mFile \u001b[39m\u001b[32m~/.pyenv/versions/3.11.10/lib/python3.11/site-packages/notion_client/api_endpoints.py:227\u001b[39m, in \u001b[36mPagesEndpoint.create\u001b[39m\u001b[34m(self, **kwargs)\u001b[39m\n\u001b[32m    222\u001b[39m \u001b[38;5;28;01mdef\u001b[39;00m\u001b[38;5;250m \u001b[39m\u001b[34mcreate\u001b[39m(\u001b[38;5;28mself\u001b[39m, **kwargs: Any) -> SyncAsync[Any]:\n\u001b[32m    223\u001b[39m \u001b[38;5;250m    \u001b[39m\u001b[33;03m\"\"\"Create a new page in the specified database or as a child of an existing page.\u001b[39;00m\n\u001b[32m    224\u001b[39m \n\u001b[32m    225\u001b[39m \u001b[33;03m    *[🔗 Endpoint documentation](https://developers.notion.com/reference/post-page)*\u001b[39;00m\n\u001b[32m    226\u001b[39m \u001b[33;03m    \"\"\"\u001b[39;00m  \u001b[38;5;66;03m# noqa: E501\u001b[39;00m\n\u001b[32m--> \u001b[39m\u001b[32m227\u001b[39m     \u001b[38;5;28;01mreturn\u001b[39;00m \u001b[38;5;28;43mself\u001b[39;49m\u001b[43m.\u001b[49m\u001b[43mparent\u001b[49m\u001b[43m.\u001b[49m\u001b[43mrequest\u001b[49m\u001b[43m(\u001b[49m\n\u001b[32m    228\u001b[39m \u001b[43m        \u001b[49m\u001b[43mpath\u001b[49m\u001b[43m=\u001b[49m\u001b[33;43m\"\u001b[39;49m\u001b[33;43mpages\u001b[39;49m\u001b[33;43m\"\u001b[39;49m\u001b[43m,\u001b[49m\n\u001b[32m    229\u001b[39m \u001b[43m        \u001b[49m\u001b[43mmethod\u001b[49m\u001b[43m=\u001b[49m\u001b[33;43m\"\u001b[39;49m\u001b[33;43mPOST\u001b[39;49m\u001b[33;43m\"\u001b[39;49m\u001b[43m,\u001b[49m\n\u001b[32m    230\u001b[39m \u001b[43m        \u001b[49m\u001b[43mbody\u001b[49m\u001b[43m=\u001b[49m\u001b[43mpick\u001b[49m\u001b[43m(\u001b[49m\u001b[43mkwargs\u001b[49m\u001b[43m,\u001b[49m\u001b[43m \u001b[49m\u001b[33;43m\"\u001b[39;49m\u001b[33;43mparent\u001b[39;49m\u001b[33;43m\"\u001b[39;49m\u001b[43m,\u001b[49m\u001b[43m \u001b[49m\u001b[33;43m\"\u001b[39;49m\u001b[33;43mproperties\u001b[39;49m\u001b[33;43m\"\u001b[39;49m\u001b[43m,\u001b[49m\u001b[43m \u001b[49m\u001b[33;43m\"\u001b[39;49m\u001b[33;43mchildren\u001b[39;49m\u001b[33;43m\"\u001b[39;49m\u001b[43m,\u001b[49m\u001b[43m \u001b[49m\u001b[33;43m\"\u001b[39;49m\u001b[33;43micon\u001b[39;49m\u001b[33;43m\"\u001b[39;49m\u001b[43m,\u001b[49m\u001b[43m \u001b[49m\u001b[33;43m\"\u001b[39;49m\u001b[33;43mcover\u001b[39;49m\u001b[33;43m\"\u001b[39;49m\u001b[43m)\u001b[49m\u001b[43m,\u001b[49m\n\u001b[32m    231\u001b[39m \u001b[43m        \u001b[49m\u001b[43mauth\u001b[49m\u001b[43m=\u001b[49m\u001b[43mkwargs\u001b[49m\u001b[43m.\u001b[49m\u001b[43mget\u001b[49m\u001b[43m(\u001b[49m\u001b[33;43m\"\u001b[39;49m\u001b[33;43mauth\u001b[39;49m\u001b[33;43m\"\u001b[39;49m\u001b[43m)\u001b[49m\u001b[43m,\u001b[49m\n\u001b[32m    232\u001b[39m \u001b[43m    \u001b[49m\u001b[43m)\u001b[49m\n",
            "\u001b[36mFile \u001b[39m\u001b[32m~/.pyenv/versions/3.11.10/lib/python3.11/site-packages/notion_client/client.py:227\u001b[39m, in \u001b[36mClient.request\u001b[39m\u001b[34m(self, path, method, query, body, form_data, auth)\u001b[39m\n\u001b[32m    225\u001b[39m \u001b[38;5;28;01mexcept\u001b[39;00m httpx.TimeoutException:\n\u001b[32m    226\u001b[39m     \u001b[38;5;28;01mraise\u001b[39;00m RequestTimeoutError()\n\u001b[32m--> \u001b[39m\u001b[32m227\u001b[39m \u001b[38;5;28;01mreturn\u001b[39;00m \u001b[38;5;28;43mself\u001b[39;49m\u001b[43m.\u001b[49m\u001b[43m_parse_response\u001b[49m\u001b[43m(\u001b[49m\u001b[43mresponse\u001b[49m\u001b[43m)\u001b[49m\n",
            "\u001b[36mFile \u001b[39m\u001b[32m~/.pyenv/versions/3.11.10/lib/python3.11/site-packages/notion_client/client.py:157\u001b[39m, in \u001b[36mBaseClient._parse_response\u001b[39m\u001b[34m(self, response)\u001b[39m\n\u001b[32m    155\u001b[39m         code = \u001b[38;5;28;01mNone\u001b[39;00m\n\u001b[32m    156\u001b[39m     \u001b[38;5;28;01mif\u001b[39;00m code \u001b[38;5;129;01mand\u001b[39;00m is_api_error_code(code):\n\u001b[32m--> \u001b[39m\u001b[32m157\u001b[39m         \u001b[38;5;28;01mraise\u001b[39;00m APIResponseError(response, body[\u001b[33m\"\u001b[39m\u001b[33mmessage\u001b[39m\u001b[33m\"\u001b[39m], code)\n\u001b[32m    158\u001b[39m     \u001b[38;5;28;01mraise\u001b[39;00m HTTPResponseError(error.response)\n\u001b[32m    160\u001b[39m body = response.json()\n",
            "\u001b[31mAPIResponseError\u001b[39m: Invalid status option. Status option \"Not started\" does not exist\"."
          ]
        }
      ],
      "source": [
        "# Example: Create task from user feedback and context\n",
        "text_inputs = [\n",
        "    \"\"\"\n",
        "\tset up personal ai agent. \n",
        "\tshould only take 2 hours with ai's help. \n",
        "\thigh priority. \n",
        "\ti want to be able to post a bunch of text with context for the task that to an api endpoint and have it create the notion ask for me. \n",
        "\tit should build on the logic of the task creation agent.create_notion_task\n",
        "\t\"\"\"\n",
        "]\n",
        "\n",
        "# Create the task\n",
        "page_id = agent.create_task_from_inputs(\n",
        "    text_inputs=text_inputs,\n",
        "    suggested_workspace=\"Livepeer\"\n",
        ")\n",
        "\n",
        "if page_id:\n",
        "    print(f\"✅ Task created with ID: {page_id}\")\n",
        "else:\n",
        "    print(\"🧪 Dry run completed\")\n"
      ]
    },
    {
      "cell_type": "code",
      "execution_count": 12,
      "metadata": {},
      "outputs": [],
      "source": [
        "page_id"
      ]
    },
    {
      "cell_type": "markdown",
      "metadata": {},
      "source": []
    }
  ],
  "metadata": {
    "kernelspec": {
      "display_name": "Python 3",
      "language": "python",
      "name": "python3"
    },
    "language_info": {
      "codemirror_mode": {
        "name": "ipython",
        "version": 3
      },
      "file_extension": ".py",
      "mimetype": "text/x-python",
      "name": "python",
      "nbconvert_exporter": "python",
      "pygments_lexer": "ipython3",
      "version": "3.11.10"
    }
  },
  "nbformat": 4,
  "nbformat_minor": 2
}
